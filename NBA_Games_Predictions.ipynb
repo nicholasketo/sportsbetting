{
  "nbformat": 4,
  "nbformat_minor": 0,
  "metadata": {
    "colab": {
      "provenance": [],
      "authorship_tag": "ABX9TyOChLQ9nEEeWCBIovCwrQxm",
      "include_colab_link": true
    },
    "kernelspec": {
      "name": "python3",
      "display_name": "Python 3"
    },
    "language_info": {
      "name": "python"
    }
  },
  "cells": [
    {
      "cell_type": "markdown",
      "metadata": {
        "id": "view-in-github",
        "colab_type": "text"
      },
      "source": [
        "<a href=\"https://colab.research.google.com/github/nicholasketo/sportsbetting/blob/main/NBA_Games_Predictions.ipynb\" target=\"_parent\"><img src=\"https://colab.research.google.com/assets/colab-badge.svg\" alt=\"Open In Colab\"/></a>"
      ]
    },
    {
      "cell_type": "code",
      "execution_count": 1,
      "metadata": {
        "colab": {
          "base_uri": "https://localhost:8080/"
        },
        "id": "ZUYVk5gCwDWT",
        "outputId": "37f4ba9e-a9b4-49f8-a1e4-7c31451647c8"
      },
      "outputs": [
        {
          "output_type": "stream",
          "name": "stdout",
          "text": [
            "Collecting xlsxwriter\n",
            "  Downloading XlsxWriter-3.1.9-py3-none-any.whl (154 kB)\n",
            "\u001b[?25l     \u001b[90m━━━━━━━━━━━━━━━━━━━━━━━━━━━━━━━━━━━━━━━━\u001b[0m \u001b[32m0.0/154.8 kB\u001b[0m \u001b[31m?\u001b[0m eta \u001b[36m-:--:--\u001b[0m\r\u001b[2K     \u001b[91m━━━━━━━━━━━━━━━━━━\u001b[0m\u001b[91m╸\u001b[0m\u001b[90m━━━━━━━━━━━━━━━━━━━━━\u001b[0m \u001b[32m71.7/154.8 kB\u001b[0m \u001b[31m2.0 MB/s\u001b[0m eta \u001b[36m0:00:01\u001b[0m\r\u001b[2K     \u001b[90m━━━━━━━━━━━━━━━━━━━━━━━━━━━━━━━━━━━━━━━━\u001b[0m \u001b[32m154.8/154.8 kB\u001b[0m \u001b[31m3.0 MB/s\u001b[0m eta \u001b[36m0:00:00\u001b[0m\n",
            "\u001b[?25hInstalling collected packages: xlsxwriter\n",
            "Successfully installed xlsxwriter-3.1.9\n"
          ]
        }
      ],
      "source": [
        "%pip install xlsxwriter\n"
      ]
    },
    {
      "cell_type": "code",
      "source": [
        "\n",
        "import numpy as np\n",
        "import pandas as pd\n",
        "import requests as rq #internet request to get HTTP request\n",
        "import xlsxwriter #save well formatted excel from python\n",
        "import math\n",
        "from sklearn.model_selection import train_test_split\n",
        "from sklearn.tree import DecisionTreeClassifier"
      ],
      "metadata": {
        "id": "YXOP7d62wK0z"
      },
      "execution_count": 2,
      "outputs": []
    },
    {
      "cell_type": "code",
      "source": [
        "from pandas.core.frame import DataFrame\n",
        "url = 'https://raw.githubusercontent.com/nicholasketo/sportsbetting/main/nba-games.csv'\n",
        "df = pd.read_csv(url, usecols=['Date', 'Visitor/Neutral', 'PTS', 'Home/Neutral', 'PTS.1'])\n",
        "result = df[(df['Visitor/Neutral'] == 'Toronto Raptors') | (df['Home/Neutral'] == 'Toronto Raptors')]\n",
        "print(result)\n"
      ],
      "metadata": {
        "id": "QMiI6tiKwMIL",
        "outputId": "8d10f506-7656-4b37-8289-25c0dfdc266a",
        "colab": {
          "base_uri": "https://localhost:8080/"
        }
      },
      "execution_count": 39,
      "outputs": [
        {
          "output_type": "stream",
          "name": "stdout",
          "text": [
            "                 Date         Visitor/Neutral  PTS     Home/Neutral  PTS.1\n",
            "7   Wed, Oct 25, 2023  Minnesota Timberwolves   94  Toronto Raptors     97\n",
            "21  Fri, Oct 27, 2023         Toronto Raptors  103    Chicago Bulls    104\n",
            "31  Sat, Oct 28, 2023      Philadelphia 76ers  114  Toronto Raptors    107\n",
            "43  Mon, Oct 30, 2023  Portland Trail Blazers   99  Toronto Raptors     91\n"
          ]
        }
      ]
    },
    {
      "cell_type": "code",
      "source": [],
      "metadata": {
        "id": "c6WwlTrAeM5z"
      },
      "execution_count": null,
      "outputs": []
    }
  ]
}